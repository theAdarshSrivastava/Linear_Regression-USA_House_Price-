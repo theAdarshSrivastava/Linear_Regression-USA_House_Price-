{
 "cells": [
  {
   "cell_type": "code",
   "execution_count": 17,
   "metadata": {},
   "outputs": [
    {
     "name": "stdout",
     "output_type": "stream",
     "text": [
      "Requirement already satisfied: pyngrok in c:\\users\\adarsh\\anaconda3\\lib\\site-packages (5.0.1)\n",
      "Requirement already satisfied: PyYAML in c:\\users\\adarsh\\anaconda3\\lib\\site-packages (from pyngrok) (5.3.1)\n"
     ]
    }
   ],
   "source": [
    "!pip install pyngrok\n"
   ]
  },
  {
   "cell_type": "code",
   "execution_count": 18,
   "metadata": {},
   "outputs": [
    {
     "name": "stdout",
     "output_type": "stream",
     "text": [
      "Requirement already satisfied: streamlit in c:\\users\\adarsh\\anaconda3\\lib\\site-packages (0.75.0)\n",
      "Requirement already satisfied: validators in c:\\users\\adarsh\\anaconda3\\lib\\site-packages (from streamlit) (0.18.2)\n",
      "Requirement already satisfied: astor in c:\\users\\adarsh\\anaconda3\\lib\\site-packages (from streamlit) (0.8.1)\n",
      "Requirement already satisfied: toml in c:\\users\\adarsh\\anaconda3\\lib\\site-packages (from streamlit) (0.10.1)\n",
      "Requirement already satisfied: pandas>=0.21.0 in c:\\users\\adarsh\\anaconda3\\lib\\site-packages (from streamlit) (1.0.5)\n",
      "Requirement already satisfied: pydeck>=0.1.dev5 in c:\\users\\adarsh\\anaconda3\\lib\\site-packages (from streamlit) (0.5.0)\n",
      "Requirement already satisfied: tzlocal in c:\\users\\adarsh\\anaconda3\\lib\\site-packages (from streamlit) (2.1)\n",
      "Requirement already satisfied: base58 in c:\\users\\adarsh\\anaconda3\\lib\\site-packages (from streamlit) (2.1.0)\n",
      "Requirement already satisfied: packaging in c:\\users\\adarsh\\anaconda3\\lib\\site-packages (from streamlit) (20.4)\n",
      "Requirement already satisfied: requests in c:\\users\\adarsh\\anaconda3\\lib\\site-packages (from streamlit) (2.24.0)\n",
      "Requirement already satisfied: numpy in c:\\users\\adarsh\\anaconda3\\lib\\site-packages (from streamlit) (1.18.5)\n",
      "Requirement already satisfied: altair>=3.2.0 in c:\\users\\adarsh\\anaconda3\\lib\\site-packages (from streamlit) (4.1.0)\n",
      "Requirement already satisfied: pyarrow; python_version < \"3.9\" in c:\\users\\adarsh\\anaconda3\\lib\\site-packages (from streamlit) (3.0.0)\n",
      "Requirement already satisfied: watchdog; platform_system != \"Darwin\" in c:\\users\\adarsh\\anaconda3\\lib\\site-packages (from streamlit) (0.10.3)\n",
      "Requirement already satisfied: gitpython in c:\\users\\adarsh\\anaconda3\\lib\\site-packages (from streamlit) (3.1.12)\n",
      "Requirement already satisfied: tornado>=5.0 in c:\\users\\adarsh\\anaconda3\\lib\\site-packages (from streamlit) (6.0.4)\n",
      "Requirement already satisfied: python-dateutil in c:\\users\\adarsh\\anaconda3\\lib\\site-packages (from streamlit) (2.8.1)\n",
      "Requirement already satisfied: protobuf!=3.11,>=3.6.0 in c:\\users\\adarsh\\anaconda3\\lib\\site-packages (from streamlit) (3.14.0)\n",
      "Requirement already satisfied: pillow>=6.2.0 in c:\\users\\adarsh\\anaconda3\\lib\\site-packages (from streamlit) (7.2.0)\n",
      "Requirement already satisfied: blinker in c:\\users\\adarsh\\anaconda3\\lib\\site-packages (from streamlit) (1.4)\n",
      "Requirement already satisfied: click>=7.0 in c:\\users\\adarsh\\anaconda3\\lib\\site-packages (from streamlit) (7.1.2)\n",
      "Requirement already satisfied: cachetools>=4.0 in c:\\users\\adarsh\\anaconda3\\lib\\site-packages (from streamlit) (4.2.1)\n",
      "Requirement already satisfied: decorator>=3.4.0 in c:\\users\\adarsh\\anaconda3\\lib\\site-packages (from validators->streamlit) (4.4.2)\n",
      "Requirement already satisfied: six>=1.4.0 in c:\\users\\adarsh\\anaconda3\\lib\\site-packages (from validators->streamlit) (1.15.0)\n",
      "Requirement already satisfied: pytz>=2017.2 in c:\\users\\adarsh\\anaconda3\\lib\\site-packages (from pandas>=0.21.0->streamlit) (2020.1)\n",
      "Requirement already satisfied: ipykernel>=5.1.2; python_version >= \"3.4\" in c:\\users\\adarsh\\anaconda3\\lib\\site-packages (from pydeck>=0.1.dev5->streamlit) (5.3.2)\n",
      "Requirement already satisfied: traitlets>=4.3.2 in c:\\users\\adarsh\\anaconda3\\lib\\site-packages (from pydeck>=0.1.dev5->streamlit) (4.3.3)\n",
      "Requirement already satisfied: ipywidgets>=7.0.0 in c:\\users\\adarsh\\anaconda3\\lib\\site-packages (from pydeck>=0.1.dev5->streamlit) (7.5.1)\n",
      "Requirement already satisfied: jinja2>=2.10.1 in c:\\users\\adarsh\\anaconda3\\lib\\site-packages (from pydeck>=0.1.dev5->streamlit) (2.11.2)\n",
      "Requirement already satisfied: pyparsing>=2.0.2 in c:\\users\\adarsh\\anaconda3\\lib\\site-packages (from packaging->streamlit) (2.4.7)\n",
      "Requirement already satisfied: idna<3,>=2.5 in c:\\users\\adarsh\\anaconda3\\lib\\site-packages (from requests->streamlit) (2.10)\n",
      "Requirement already satisfied: chardet<4,>=3.0.2 in c:\\users\\adarsh\\anaconda3\\lib\\site-packages (from requests->streamlit) (3.0.4)\n",
      "Requirement already satisfied: certifi>=2017.4.17 in c:\\users\\adarsh\\anaconda3\\lib\\site-packages (from requests->streamlit) (2020.6.20)\n",
      "Requirement already satisfied: urllib3!=1.25.0,!=1.25.1,<1.26,>=1.21.1 in c:\\users\\adarsh\\anaconda3\\lib\\site-packages (from requests->streamlit) (1.25.9)\n",
      "Requirement already satisfied: entrypoints in c:\\users\\adarsh\\anaconda3\\lib\\site-packages (from altair>=3.2.0->streamlit) (0.3)\n",
      "Requirement already satisfied: toolz in c:\\users\\adarsh\\anaconda3\\lib\\site-packages (from altair>=3.2.0->streamlit) (0.10.0)\n",
      "Requirement already satisfied: jsonschema in c:\\users\\adarsh\\anaconda3\\lib\\site-packages (from altair>=3.2.0->streamlit) (3.2.0)\n",
      "Requirement already satisfied: pathtools>=0.1.1 in c:\\users\\adarsh\\anaconda3\\lib\\site-packages (from watchdog; platform_system != \"Darwin\"->streamlit) (0.1.2)\n",
      "Requirement already satisfied: gitdb<5,>=4.0.1 in c:\\users\\adarsh\\anaconda3\\lib\\site-packages (from gitpython->streamlit) (4.0.5)\n",
      "Requirement already satisfied: ipython>=5.0.0 in c:\\users\\adarsh\\anaconda3\\lib\\site-packages (from ipykernel>=5.1.2; python_version >= \"3.4\"->pydeck>=0.1.dev5->streamlit) (7.16.1)\n",
      "Requirement already satisfied: jupyter-client in c:\\users\\adarsh\\anaconda3\\lib\\site-packages (from ipykernel>=5.1.2; python_version >= \"3.4\"->pydeck>=0.1.dev5->streamlit) (6.1.6)\n",
      "Requirement already satisfied: ipython-genutils in c:\\users\\adarsh\\anaconda3\\lib\\site-packages (from traitlets>=4.3.2->pydeck>=0.1.dev5->streamlit) (0.2.0)\n",
      "Requirement already satisfied: nbformat>=4.2.0 in c:\\users\\adarsh\\anaconda3\\lib\\site-packages (from ipywidgets>=7.0.0->pydeck>=0.1.dev5->streamlit) (5.0.7)\n",
      "Requirement already satisfied: widgetsnbextension~=3.5.0 in c:\\users\\adarsh\\anaconda3\\lib\\site-packages (from ipywidgets>=7.0.0->pydeck>=0.1.dev5->streamlit) (3.5.1)\n",
      "Requirement already satisfied: MarkupSafe>=0.23 in c:\\users\\adarsh\\anaconda3\\lib\\site-packages (from jinja2>=2.10.1->pydeck>=0.1.dev5->streamlit) (1.1.1)\n",
      "Requirement already satisfied: attrs>=17.4.0 in c:\\users\\adarsh\\anaconda3\\lib\\site-packages (from jsonschema->altair>=3.2.0->streamlit) (19.3.0)\n",
      "Requirement already satisfied: setuptools in c:\\users\\adarsh\\anaconda3\\lib\\site-packages (from jsonschema->altair>=3.2.0->streamlit) (49.2.0.post20200714)\n",
      "Requirement already satisfied: pyrsistent>=0.14.0 in c:\\users\\adarsh\\anaconda3\\lib\\site-packages (from jsonschema->altair>=3.2.0->streamlit) (0.16.0)\n",
      "Requirement already satisfied: smmap<4,>=3.0.1 in c:\\users\\adarsh\\anaconda3\\lib\\site-packages (from gitdb<5,>=4.0.1->gitpython->streamlit) (3.0.5)\n",
      "Requirement already satisfied: prompt-toolkit!=3.0.0,!=3.0.1,<3.1.0,>=2.0.0 in c:\\users\\adarsh\\anaconda3\\lib\\site-packages (from ipython>=5.0.0->ipykernel>=5.1.2; python_version >= \"3.4\"->pydeck>=0.1.dev5->streamlit) (3.0.5)\n",
      "Requirement already satisfied: backcall in c:\\users\\adarsh\\anaconda3\\lib\\site-packages (from ipython>=5.0.0->ipykernel>=5.1.2; python_version >= \"3.4\"->pydeck>=0.1.dev5->streamlit) (0.2.0)\n",
      "Requirement already satisfied: pygments in c:\\users\\adarsh\\anaconda3\\lib\\site-packages (from ipython>=5.0.0->ipykernel>=5.1.2; python_version >= \"3.4\"->pydeck>=0.1.dev5->streamlit) (2.6.1)\n",
      "Requirement already satisfied: jedi>=0.10 in c:\\users\\adarsh\\anaconda3\\lib\\site-packages (from ipython>=5.0.0->ipykernel>=5.1.2; python_version >= \"3.4\"->pydeck>=0.1.dev5->streamlit) (0.17.1)\n",
      "Requirement already satisfied: pickleshare in c:\\users\\adarsh\\anaconda3\\lib\\site-packages (from ipython>=5.0.0->ipykernel>=5.1.2; python_version >= \"3.4\"->pydeck>=0.1.dev5->streamlit) (0.7.5)\n",
      "Requirement already satisfied: colorama; sys_platform == \"win32\" in c:\\users\\adarsh\\anaconda3\\lib\\site-packages (from ipython>=5.0.0->ipykernel>=5.1.2; python_version >= \"3.4\"->pydeck>=0.1.dev5->streamlit) (0.4.3)\n",
      "Requirement already satisfied: pyzmq>=13 in c:\\users\\adarsh\\anaconda3\\lib\\site-packages (from jupyter-client->ipykernel>=5.1.2; python_version >= \"3.4\"->pydeck>=0.1.dev5->streamlit) (19.0.1)\n",
      "Requirement already satisfied: jupyter-core>=4.6.0 in c:\\users\\adarsh\\anaconda3\\lib\\site-packages (from jupyter-client->ipykernel>=5.1.2; python_version >= \"3.4\"->pydeck>=0.1.dev5->streamlit) (4.6.3)\n",
      "Requirement already satisfied: notebook>=4.4.1 in c:\\users\\adarsh\\anaconda3\\lib\\site-packages (from widgetsnbextension~=3.5.0->ipywidgets>=7.0.0->pydeck>=0.1.dev5->streamlit) (6.0.3)\n",
      "Requirement already satisfied: wcwidth in c:\\users\\adarsh\\anaconda3\\lib\\site-packages (from prompt-toolkit!=3.0.0,!=3.0.1,<3.1.0,>=2.0.0->ipython>=5.0.0->ipykernel>=5.1.2; python_version >= \"3.4\"->pydeck>=0.1.dev5->streamlit) (0.2.5)\n",
      "Requirement already satisfied: parso<0.8.0,>=0.7.0 in c:\\users\\adarsh\\anaconda3\\lib\\site-packages (from jedi>=0.10->ipython>=5.0.0->ipykernel>=5.1.2; python_version >= \"3.4\"->pydeck>=0.1.dev5->streamlit) (0.7.0)\n",
      "Requirement already satisfied: pywin32>=1.0; sys_platform == \"win32\" in c:\\users\\adarsh\\anaconda3\\lib\\site-packages (from jupyter-core>=4.6.0->jupyter-client->ipykernel>=5.1.2; python_version >= \"3.4\"->pydeck>=0.1.dev5->streamlit) (227)\n",
      "Requirement already satisfied: nbconvert in c:\\users\\adarsh\\anaconda3\\lib\\site-packages (from notebook>=4.4.1->widgetsnbextension~=3.5.0->ipywidgets>=7.0.0->pydeck>=0.1.dev5->streamlit) (5.6.1)\n",
      "Requirement already satisfied: prometheus-client in c:\\users\\adarsh\\anaconda3\\lib\\site-packages (from notebook>=4.4.1->widgetsnbextension~=3.5.0->ipywidgets>=7.0.0->pydeck>=0.1.dev5->streamlit) (0.8.0)\n",
      "Requirement already satisfied: terminado>=0.8.1 in c:\\users\\adarsh\\anaconda3\\lib\\site-packages (from notebook>=4.4.1->widgetsnbextension~=3.5.0->ipywidgets>=7.0.0->pydeck>=0.1.dev5->streamlit) (0.8.3)\n",
      "Requirement already satisfied: Send2Trash in c:\\users\\adarsh\\anaconda3\\lib\\site-packages (from notebook>=4.4.1->widgetsnbextension~=3.5.0->ipywidgets>=7.0.0->pydeck>=0.1.dev5->streamlit) (1.5.0)\n",
      "Requirement already satisfied: defusedxml in c:\\users\\adarsh\\anaconda3\\lib\\site-packages (from nbconvert->notebook>=4.4.1->widgetsnbextension~=3.5.0->ipywidgets>=7.0.0->pydeck>=0.1.dev5->streamlit) (0.6.0)\n",
      "Requirement already satisfied: pandocfilters>=1.4.1 in c:\\users\\adarsh\\anaconda3\\lib\\site-packages (from nbconvert->notebook>=4.4.1->widgetsnbextension~=3.5.0->ipywidgets>=7.0.0->pydeck>=0.1.dev5->streamlit) (1.4.2)\n",
      "Requirement already satisfied: mistune<2,>=0.8.1 in c:\\users\\adarsh\\anaconda3\\lib\\site-packages (from nbconvert->notebook>=4.4.1->widgetsnbextension~=3.5.0->ipywidgets>=7.0.0->pydeck>=0.1.dev5->streamlit) (0.8.4)\n",
      "Requirement already satisfied: testpath in c:\\users\\adarsh\\anaconda3\\lib\\site-packages (from nbconvert->notebook>=4.4.1->widgetsnbextension~=3.5.0->ipywidgets>=7.0.0->pydeck>=0.1.dev5->streamlit) (0.4.4)\n",
      "Requirement already satisfied: bleach in c:\\users\\adarsh\\anaconda3\\lib\\site-packages (from nbconvert->notebook>=4.4.1->widgetsnbextension~=3.5.0->ipywidgets>=7.0.0->pydeck>=0.1.dev5->streamlit) (3.1.5)\n",
      "Requirement already satisfied: webencodings in c:\\users\\adarsh\\anaconda3\\lib\\site-packages (from bleach->nbconvert->notebook>=4.4.1->widgetsnbextension~=3.5.0->ipywidgets>=7.0.0->pydeck>=0.1.dev5->streamlit) (0.5.1)\n"
     ]
    }
   ],
   "source": [
    "!pip install streamlit"
   ]
  },
  {
   "cell_type": "code",
   "execution_count": 19,
   "metadata": {},
   "outputs": [
    {
     "name": "stdout",
     "output_type": "stream",
     "text": [
      "Requirement already satisfied: streamlit_ace in c:\\users\\adarsh\\anaconda3\\lib\\site-packages (0.0.4)\n",
      "Requirement already satisfied: streamlit>=0.63 in c:\\users\\adarsh\\anaconda3\\lib\\site-packages (from streamlit_ace) (0.75.0)\n",
      "Requirement already satisfied: requests in c:\\users\\adarsh\\anaconda3\\lib\\site-packages (from streamlit>=0.63->streamlit_ace) (2.24.0)\n",
      "Requirement already satisfied: toml in c:\\users\\adarsh\\anaconda3\\lib\\site-packages (from streamlit>=0.63->streamlit_ace) (0.10.1)\n",
      "Requirement already satisfied: tzlocal in c:\\users\\adarsh\\anaconda3\\lib\\site-packages (from streamlit>=0.63->streamlit_ace) (2.1)\n",
      "Requirement already satisfied: blinker in c:\\users\\adarsh\\anaconda3\\lib\\site-packages (from streamlit>=0.63->streamlit_ace) (1.4)\n",
      "Requirement already satisfied: astor in c:\\users\\adarsh\\anaconda3\\lib\\site-packages (from streamlit>=0.63->streamlit_ace) (0.8.1)\n",
      "Requirement already satisfied: protobuf!=3.11,>=3.6.0 in c:\\users\\adarsh\\anaconda3\\lib\\site-packages (from streamlit>=0.63->streamlit_ace) (3.14.0)\n",
      "Requirement already satisfied: numpy in c:\\users\\adarsh\\anaconda3\\lib\\site-packages (from streamlit>=0.63->streamlit_ace) (1.18.5)\n",
      "Requirement already satisfied: validators in c:\\users\\adarsh\\anaconda3\\lib\\site-packages (from streamlit>=0.63->streamlit_ace) (0.18.2)\n",
      "Requirement already satisfied: base58 in c:\\users\\adarsh\\anaconda3\\lib\\site-packages (from streamlit>=0.63->streamlit_ace) (2.1.0)\n",
      "Requirement already satisfied: pydeck>=0.1.dev5 in c:\\users\\adarsh\\anaconda3\\lib\\site-packages (from streamlit>=0.63->streamlit_ace) (0.5.0)\n",
      "Requirement already satisfied: click>=7.0 in c:\\users\\adarsh\\anaconda3\\lib\\site-packages (from streamlit>=0.63->streamlit_ace) (7.1.2)\n",
      "Requirement already satisfied: tornado>=5.0 in c:\\users\\adarsh\\anaconda3\\lib\\site-packages (from streamlit>=0.63->streamlit_ace) (6.0.4)\n",
      "Requirement already satisfied: pandas>=0.21.0 in c:\\users\\adarsh\\anaconda3\\lib\\site-packages (from streamlit>=0.63->streamlit_ace) (1.0.5)\n",
      "Requirement already satisfied: altair>=3.2.0 in c:\\users\\adarsh\\anaconda3\\lib\\site-packages (from streamlit>=0.63->streamlit_ace) (4.1.0)\n",
      "Requirement already satisfied: packaging in c:\\users\\adarsh\\anaconda3\\lib\\site-packages (from streamlit>=0.63->streamlit_ace) (20.4)\n",
      "Requirement already satisfied: gitpython in c:\\users\\adarsh\\anaconda3\\lib\\site-packages (from streamlit>=0.63->streamlit_ace) (3.1.12)\n",
      "Requirement already satisfied: cachetools>=4.0 in c:\\users\\adarsh\\anaconda3\\lib\\site-packages (from streamlit>=0.63->streamlit_ace) (4.2.1)\n",
      "Requirement already satisfied: python-dateutil in c:\\users\\adarsh\\anaconda3\\lib\\site-packages (from streamlit>=0.63->streamlit_ace) (2.8.1)\n",
      "Requirement already satisfied: pyarrow; python_version < \"3.9\" in c:\\users\\adarsh\\anaconda3\\lib\\site-packages (from streamlit>=0.63->streamlit_ace) (3.0.0)\n",
      "Requirement already satisfied: watchdog; platform_system != \"Darwin\" in c:\\users\\adarsh\\anaconda3\\lib\\site-packages (from streamlit>=0.63->streamlit_ace) (0.10.3)\n",
      "Requirement already satisfied: pillow>=6.2.0 in c:\\users\\adarsh\\anaconda3\\lib\\site-packages (from streamlit>=0.63->streamlit_ace) (7.2.0)\n",
      "Requirement already satisfied: idna<3,>=2.5 in c:\\users\\adarsh\\anaconda3\\lib\\site-packages (from requests->streamlit>=0.63->streamlit_ace) (2.10)\n",
      "Requirement already satisfied: chardet<4,>=3.0.2 in c:\\users\\adarsh\\anaconda3\\lib\\site-packages (from requests->streamlit>=0.63->streamlit_ace) (3.0.4)\n",
      "Requirement already satisfied: certifi>=2017.4.17 in c:\\users\\adarsh\\anaconda3\\lib\\site-packages (from requests->streamlit>=0.63->streamlit_ace) (2020.6.20)\n",
      "Requirement already satisfied: urllib3!=1.25.0,!=1.25.1,<1.26,>=1.21.1 in c:\\users\\adarsh\\anaconda3\\lib\\site-packages (from requests->streamlit>=0.63->streamlit_ace) (1.25.9)\n",
      "Requirement already satisfied: pytz in c:\\users\\adarsh\\anaconda3\\lib\\site-packages (from tzlocal->streamlit>=0.63->streamlit_ace) (2020.1)\n",
      "Requirement already satisfied: six>=1.9 in c:\\users\\adarsh\\anaconda3\\lib\\site-packages (from protobuf!=3.11,>=3.6.0->streamlit>=0.63->streamlit_ace) (1.15.0)\n",
      "Requirement already satisfied: decorator>=3.4.0 in c:\\users\\adarsh\\anaconda3\\lib\\site-packages (from validators->streamlit>=0.63->streamlit_ace) (4.4.2)\n",
      "Requirement already satisfied: ipykernel>=5.1.2; python_version >= \"3.4\" in c:\\users\\adarsh\\anaconda3\\lib\\site-packages (from pydeck>=0.1.dev5->streamlit>=0.63->streamlit_ace) (5.3.2)\n",
      "Requirement already satisfied: ipywidgets>=7.0.0 in c:\\users\\adarsh\\anaconda3\\lib\\site-packages (from pydeck>=0.1.dev5->streamlit>=0.63->streamlit_ace) (7.5.1)\n",
      "Requirement already satisfied: traitlets>=4.3.2 in c:\\users\\adarsh\\anaconda3\\lib\\site-packages (from pydeck>=0.1.dev5->streamlit>=0.63->streamlit_ace) (4.3.3)\n",
      "Requirement already satisfied: jinja2>=2.10.1 in c:\\users\\adarsh\\anaconda3\\lib\\site-packages (from pydeck>=0.1.dev5->streamlit>=0.63->streamlit_ace) (2.11.2)\n",
      "Requirement already satisfied: jsonschema in c:\\users\\adarsh\\anaconda3\\lib\\site-packages (from altair>=3.2.0->streamlit>=0.63->streamlit_ace) (3.2.0)\n",
      "Requirement already satisfied: entrypoints in c:\\users\\adarsh\\anaconda3\\lib\\site-packages (from altair>=3.2.0->streamlit>=0.63->streamlit_ace) (0.3)\n",
      "Requirement already satisfied: toolz in c:\\users\\adarsh\\anaconda3\\lib\\site-packages (from altair>=3.2.0->streamlit>=0.63->streamlit_ace) (0.10.0)\n",
      "Requirement already satisfied: pyparsing>=2.0.2 in c:\\users\\adarsh\\anaconda3\\lib\\site-packages (from packaging->streamlit>=0.63->streamlit_ace) (2.4.7)\n",
      "Requirement already satisfied: gitdb<5,>=4.0.1 in c:\\users\\adarsh\\anaconda3\\lib\\site-packages (from gitpython->streamlit>=0.63->streamlit_ace) (4.0.5)\n",
      "Requirement already satisfied: pathtools>=0.1.1 in c:\\users\\adarsh\\anaconda3\\lib\\site-packages (from watchdog; platform_system != \"Darwin\"->streamlit>=0.63->streamlit_ace) (0.1.2)\n",
      "Requirement already satisfied: ipython>=5.0.0 in c:\\users\\adarsh\\anaconda3\\lib\\site-packages (from ipykernel>=5.1.2; python_version >= \"3.4\"->pydeck>=0.1.dev5->streamlit>=0.63->streamlit_ace) (7.16.1)\n",
      "Requirement already satisfied: jupyter-client in c:\\users\\adarsh\\anaconda3\\lib\\site-packages (from ipykernel>=5.1.2; python_version >= \"3.4\"->pydeck>=0.1.dev5->streamlit>=0.63->streamlit_ace) (6.1.6)\n",
      "Requirement already satisfied: nbformat>=4.2.0 in c:\\users\\adarsh\\anaconda3\\lib\\site-packages (from ipywidgets>=7.0.0->pydeck>=0.1.dev5->streamlit>=0.63->streamlit_ace) (5.0.7)\n",
      "Requirement already satisfied: widgetsnbextension~=3.5.0 in c:\\users\\adarsh\\anaconda3\\lib\\site-packages (from ipywidgets>=7.0.0->pydeck>=0.1.dev5->streamlit>=0.63->streamlit_ace) (3.5.1)\n",
      "Requirement already satisfied: ipython-genutils in c:\\users\\adarsh\\anaconda3\\lib\\site-packages (from traitlets>=4.3.2->pydeck>=0.1.dev5->streamlit>=0.63->streamlit_ace) (0.2.0)\n",
      "Requirement already satisfied: MarkupSafe>=0.23 in c:\\users\\adarsh\\anaconda3\\lib\\site-packages (from jinja2>=2.10.1->pydeck>=0.1.dev5->streamlit>=0.63->streamlit_ace) (1.1.1)\n",
      "Requirement already satisfied: setuptools in c:\\users\\adarsh\\anaconda3\\lib\\site-packages (from jsonschema->altair>=3.2.0->streamlit>=0.63->streamlit_ace) (49.2.0.post20200714)\n",
      "Requirement already satisfied: pyrsistent>=0.14.0 in c:\\users\\adarsh\\anaconda3\\lib\\site-packages (from jsonschema->altair>=3.2.0->streamlit>=0.63->streamlit_ace) (0.16.0)\n",
      "Requirement already satisfied: attrs>=17.4.0 in c:\\users\\adarsh\\anaconda3\\lib\\site-packages (from jsonschema->altair>=3.2.0->streamlit>=0.63->streamlit_ace) (19.3.0)\n",
      "Requirement already satisfied: smmap<4,>=3.0.1 in c:\\users\\adarsh\\anaconda3\\lib\\site-packages (from gitdb<5,>=4.0.1->gitpython->streamlit>=0.63->streamlit_ace) (3.0.5)\n",
      "Requirement already satisfied: prompt-toolkit!=3.0.0,!=3.0.1,<3.1.0,>=2.0.0 in c:\\users\\adarsh\\anaconda3\\lib\\site-packages (from ipython>=5.0.0->ipykernel>=5.1.2; python_version >= \"3.4\"->pydeck>=0.1.dev5->streamlit>=0.63->streamlit_ace) (3.0.5)\n",
      "Requirement already satisfied: jedi>=0.10 in c:\\users\\adarsh\\anaconda3\\lib\\site-packages (from ipython>=5.0.0->ipykernel>=5.1.2; python_version >= \"3.4\"->pydeck>=0.1.dev5->streamlit>=0.63->streamlit_ace) (0.17.1)\n",
      "Requirement already satisfied: backcall in c:\\users\\adarsh\\anaconda3\\lib\\site-packages (from ipython>=5.0.0->ipykernel>=5.1.2; python_version >= \"3.4\"->pydeck>=0.1.dev5->streamlit>=0.63->streamlit_ace) (0.2.0)\n",
      "Requirement already satisfied: colorama; sys_platform == \"win32\" in c:\\users\\adarsh\\anaconda3\\lib\\site-packages (from ipython>=5.0.0->ipykernel>=5.1.2; python_version >= \"3.4\"->pydeck>=0.1.dev5->streamlit>=0.63->streamlit_ace) (0.4.3)\n",
      "Requirement already satisfied: pickleshare in c:\\users\\adarsh\\anaconda3\\lib\\site-packages (from ipython>=5.0.0->ipykernel>=5.1.2; python_version >= \"3.4\"->pydeck>=0.1.dev5->streamlit>=0.63->streamlit_ace) (0.7.5)\n",
      "Requirement already satisfied: pygments in c:\\users\\adarsh\\anaconda3\\lib\\site-packages (from ipython>=5.0.0->ipykernel>=5.1.2; python_version >= \"3.4\"->pydeck>=0.1.dev5->streamlit>=0.63->streamlit_ace) (2.6.1)\n",
      "Requirement already satisfied: pyzmq>=13 in c:\\users\\adarsh\\anaconda3\\lib\\site-packages (from jupyter-client->ipykernel>=5.1.2; python_version >= \"3.4\"->pydeck>=0.1.dev5->streamlit>=0.63->streamlit_ace) (19.0.1)\n",
      "Requirement already satisfied: jupyter-core>=4.6.0 in c:\\users\\adarsh\\anaconda3\\lib\\site-packages (from jupyter-client->ipykernel>=5.1.2; python_version >= \"3.4\"->pydeck>=0.1.dev5->streamlit>=0.63->streamlit_ace) (4.6.3)\n",
      "Requirement already satisfied: notebook>=4.4.1 in c:\\users\\adarsh\\anaconda3\\lib\\site-packages (from widgetsnbextension~=3.5.0->ipywidgets>=7.0.0->pydeck>=0.1.dev5->streamlit>=0.63->streamlit_ace) (6.0.3)\n",
      "Requirement already satisfied: wcwidth in c:\\users\\adarsh\\anaconda3\\lib\\site-packages (from prompt-toolkit!=3.0.0,!=3.0.1,<3.1.0,>=2.0.0->ipython>=5.0.0->ipykernel>=5.1.2; python_version >= \"3.4\"->pydeck>=0.1.dev5->streamlit>=0.63->streamlit_ace) (0.2.5)\n",
      "Requirement already satisfied: parso<0.8.0,>=0.7.0 in c:\\users\\adarsh\\anaconda3\\lib\\site-packages (from jedi>=0.10->ipython>=5.0.0->ipykernel>=5.1.2; python_version >= \"3.4\"->pydeck>=0.1.dev5->streamlit>=0.63->streamlit_ace) (0.7.0)\n",
      "Requirement already satisfied: pywin32>=1.0; sys_platform == \"win32\" in c:\\users\\adarsh\\anaconda3\\lib\\site-packages (from jupyter-core>=4.6.0->jupyter-client->ipykernel>=5.1.2; python_version >= \"3.4\"->pydeck>=0.1.dev5->streamlit>=0.63->streamlit_ace) (227)\n",
      "Requirement already satisfied: terminado>=0.8.1 in c:\\users\\adarsh\\anaconda3\\lib\\site-packages (from notebook>=4.4.1->widgetsnbextension~=3.5.0->ipywidgets>=7.0.0->pydeck>=0.1.dev5->streamlit>=0.63->streamlit_ace) (0.8.3)\n",
      "Requirement already satisfied: prometheus-client in c:\\users\\adarsh\\anaconda3\\lib\\site-packages (from notebook>=4.4.1->widgetsnbextension~=3.5.0->ipywidgets>=7.0.0->pydeck>=0.1.dev5->streamlit>=0.63->streamlit_ace) (0.8.0)\n",
      "Requirement already satisfied: Send2Trash in c:\\users\\adarsh\\anaconda3\\lib\\site-packages (from notebook>=4.4.1->widgetsnbextension~=3.5.0->ipywidgets>=7.0.0->pydeck>=0.1.dev5->streamlit>=0.63->streamlit_ace) (1.5.0)\n",
      "Requirement already satisfied: nbconvert in c:\\users\\adarsh\\anaconda3\\lib\\site-packages (from notebook>=4.4.1->widgetsnbextension~=3.5.0->ipywidgets>=7.0.0->pydeck>=0.1.dev5->streamlit>=0.63->streamlit_ace) (5.6.1)\n",
      "Requirement already satisfied: defusedxml in c:\\users\\adarsh\\anaconda3\\lib\\site-packages (from nbconvert->notebook>=4.4.1->widgetsnbextension~=3.5.0->ipywidgets>=7.0.0->pydeck>=0.1.dev5->streamlit>=0.63->streamlit_ace) (0.6.0)\n",
      "Requirement already satisfied: bleach in c:\\users\\adarsh\\anaconda3\\lib\\site-packages (from nbconvert->notebook>=4.4.1->widgetsnbextension~=3.5.0->ipywidgets>=7.0.0->pydeck>=0.1.dev5->streamlit>=0.63->streamlit_ace) (3.1.5)\n",
      "Requirement already satisfied: testpath in c:\\users\\adarsh\\anaconda3\\lib\\site-packages (from nbconvert->notebook>=4.4.1->widgetsnbextension~=3.5.0->ipywidgets>=7.0.0->pydeck>=0.1.dev5->streamlit>=0.63->streamlit_ace) (0.4.4)\n",
      "Requirement already satisfied: mistune<2,>=0.8.1 in c:\\users\\adarsh\\anaconda3\\lib\\site-packages (from nbconvert->notebook>=4.4.1->widgetsnbextension~=3.5.0->ipywidgets>=7.0.0->pydeck>=0.1.dev5->streamlit>=0.63->streamlit_ace) (0.8.4)\n",
      "Requirement already satisfied: pandocfilters>=1.4.1 in c:\\users\\adarsh\\anaconda3\\lib\\site-packages (from nbconvert->notebook>=4.4.1->widgetsnbextension~=3.5.0->ipywidgets>=7.0.0->pydeck>=0.1.dev5->streamlit>=0.63->streamlit_ace) (1.4.2)\n",
      "Requirement already satisfied: webencodings in c:\\users\\adarsh\\anaconda3\\lib\\site-packages (from bleach->nbconvert->notebook>=4.4.1->widgetsnbextension~=3.5.0->ipywidgets>=7.0.0->pydeck>=0.1.dev5->streamlit>=0.63->streamlit_ace) (0.5.1)\n"
     ]
    }
   ],
   "source": [
    "!pip install streamlit_ace"
   ]
  },
  {
   "cell_type": "code",
   "execution_count": 20,
   "metadata": {},
   "outputs": [],
   "source": [
    "import streamlit as st"
   ]
  },
  {
   "cell_type": "code",
   "execution_count": 21,
   "metadata": {},
   "outputs": [],
   "source": [
    "import pickle\n"
   ]
  },
  {
   "cell_type": "code",
   "execution_count": 22,
   "metadata": {},
   "outputs": [],
   "source": [
    "pickle_in=open('USA_Housing.pkl','rb')\n",
    "model=pickle.load(pickle_in)"
   ]
  },
  {
   "cell_type": "code",
   "execution_count": 23,
   "metadata": {},
   "outputs": [],
   "source": [
    " \n",
    "def prediction(Income,HouseAge,Rooms,Bedrooms,Population):\n",
    "    \n",
    "    pred=model.predict([[Income,HouseAge,Rooms,Bedrooms,Population]])\n",
    "    return pred\n",
    "\n",
    "def main():       \n",
    "    # front end elements of the web page \n",
    "    html_temp = \"\"\" \n",
    "    <div style =\"background-color:yellow;padding:13px\"> \n",
    "    <h1 style =\"color:black;text-align:center;\">Streamlit House Price Prediction ML App</h1> \n",
    "    </div> \n",
    "    \"\"\"\n",
    "    \n",
    "    # display the front end aspect\n",
    "    st.markdown(html_temp, unsafe_allow_html = True) \n",
    "      \n",
    "    # following lines create boxes in which user can enter data required to make prediction \n",
    "    Income = st.number_input('Avg. Area Income(15000-110000)')\n",
    "    HouseAge = st.number_input('Avg. Area House Age(2-10)') \n",
    "    Rooms = st.number_input(\"Avg. Area number of Rooms(3-11)\") \n",
    "    Bedrooms = st.number_input(\"Avg. Area number of Bedrooms(2-10)\")\n",
    "    Population = st.number_input('Area Population(100-70000)')\n",
    "    result =\"\"\n",
    "      \n",
    "    # when 'Predict' is clicked, make the prediction and store it \n",
    "    if st.button(\"Predict\"): \n",
    "        result = prediction(Income,HouseAge,Rooms,Bedrooms,Population) \n",
    "        st.success('Estimated Price {}'.format(result))\n",
    "        \n",
    "     \n",
    "if __name__=='__main__': \n",
    "    main()"
   ]
  },
  {
   "cell_type": "code",
   "execution_count": null,
   "metadata": {},
   "outputs": [],
   "source": []
  },
  {
   "cell_type": "code",
   "execution_count": null,
   "metadata": {},
   "outputs": [],
   "source": []
  }
 ],
 "metadata": {
  "kernelspec": {
   "display_name": "Python 3",
   "language": "python",
   "name": "python3"
  },
  "language_info": {
   "codemirror_mode": {
    "name": "ipython",
    "version": 3
   },
   "file_extension": ".py",
   "mimetype": "text/x-python",
   "name": "python",
   "nbconvert_exporter": "python",
   "pygments_lexer": "ipython3",
   "version": "3.8.3"
  }
 },
 "nbformat": 4,
 "nbformat_minor": 4
}
